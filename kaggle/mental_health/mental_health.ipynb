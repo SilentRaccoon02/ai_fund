{
 "cells": [
  {
   "cell_type": "markdown",
   "id": "510338cd",
   "metadata": {},
   "source": [
    "Импортируем конфиг и загружаем данные\n"
   ]
  },
  {
   "cell_type": "code",
   "execution_count": null,
   "id": "57d094de",
   "metadata": {},
   "outputs": [],
   "source": [
    "import pandas as pd\n",
    "import yaml\n",
    "\n",
    "with open(\"../../config.yaml\", \"r\") as f:\n",
    "    cfg = yaml.safe_load(f)\n",
    "\n",
    "\n",
    "df = pd.read_csv(cfg[\"mental_health\"][\"train_dataset\"])\n",
    "df_test = pd.read_csv(cfg[\"mental_health\"][\"test_dataset\"])"
   ]
  },
  {
   "cell_type": "code",
   "execution_count": null,
   "id": "c1639b52",
   "metadata": {},
   "outputs": [],
   "source": [
    "df.columns"
   ]
  },
  {
   "cell_type": "markdown",
   "id": "588f8c16",
   "metadata": {},
   "source": [
    "Производим предварительную обработку данных\\\n",
    "Разделяем признаки и целевую переменную\\\n",
    "Информация об имени человека не нужна\n"
   ]
  },
  {
   "cell_type": "code",
   "execution_count": null,
   "id": "8209b120",
   "metadata": {},
   "outputs": [],
   "source": [
    "df_copy = df.copy()\n",
    "df_test_copy = df_test.copy()\n",
    "\n",
    "df_copy = df_copy.drop([\"Name\"], axis=1)\n",
    "df_test_copy = df_test_copy.drop([\"Name\"], axis=1)\n",
    "\n",
    "X = df_copy.drop([\"Depression\", \"id\"], axis=1)\n",
    "X_test = df_test_copy.drop([\"id\"], axis=1)\n",
    "y = df_copy[\"Depression\"]"
   ]
  },
  {
   "cell_type": "markdown",
   "id": "98449104",
   "metadata": {},
   "source": [
    "Определяем числовые и категориальные признаки\n"
   ]
  },
  {
   "cell_type": "code",
   "execution_count": null,
   "id": "e50c1023",
   "metadata": {},
   "outputs": [],
   "source": [
    "num_cols = X.select_dtypes(include=[\"int64\", \"float64\"]).columns.tolist()\n",
    "cat_cols = X.select_dtypes(exclude=[\"int64\", \"float64\"]).columns.tolist()"
   ]
  },
  {
   "cell_type": "markdown",
   "id": "3a13ff4b",
   "metadata": {},
   "source": [
    "Создаем конвейеры обработки данных\\\n",
    "Для числовых признаков пропущенные значения заполняются медианным значением\\\n",
    "Для категориальных признаков значения заполняются наиболее частым значением\\\n",
    "Переменные категориальных признаков кодируются в числовой формат OneHotEncoder\n"
   ]
  },
  {
   "cell_type": "code",
   "execution_count": null,
   "id": "e0c71c8d",
   "metadata": {},
   "outputs": [],
   "source": [
    "from sklearn.compose import ColumnTransformer\n",
    "from sklearn.discriminant_analysis import StandardScaler\n",
    "from sklearn.impute import SimpleImputer\n",
    "from sklearn.pipeline import Pipeline\n",
    "from sklearn.preprocessing import OneHotEncoder\n",
    "\n",
    "\n",
    "num_pipe = Pipeline(\n",
    "    [(\"imputer\", SimpleImputer(strategy=\"median\")), (\"scaler\", StandardScaler())]\n",
    ")\n",
    "\n",
    "cat_pipe = Pipeline(\n",
    "    [\n",
    "        (\"imputer\", SimpleImputer(strategy=\"most_frequent\")),\n",
    "        (\"encoder\", OneHotEncoder(handle_unknown=\"ignore\")),\n",
    "    ]\n",
    ")"
   ]
  },
  {
   "cell_type": "markdown",
   "id": "ab336aeb",
   "metadata": {},
   "source": [
    "Создаем общий обработчик числовых и категориальных признаков\n"
   ]
  },
  {
   "cell_type": "code",
   "execution_count": null,
   "id": "4f531628",
   "metadata": {},
   "outputs": [],
   "source": [
    "transformer = ColumnTransformer(\n",
    "    [(\"num\", num_pipe, num_cols), (\"cat\", cat_pipe, cat_cols)]\n",
    ")"
   ]
  },
  {
   "cell_type": "markdown",
   "id": "b23f3369",
   "metadata": {},
   "source": [
    "Создаем словарь с различными моделями классификации для сравнения эффективности\n"
   ]
  },
  {
   "cell_type": "code",
   "execution_count": null,
   "id": "3b3ecde3",
   "metadata": {},
   "outputs": [],
   "source": [
    "from sklearn.ensemble import RandomForestClassifier\n",
    "from sklearn.linear_model import LogisticRegression\n",
    "from sklearn.neighbors import KNeighborsClassifier\n",
    "from sklearn.svm import SVC\n",
    "from sklearn.tree import DecisionTreeClassifier\n",
    "\n",
    "\n",
    "models = {\n",
    "    \"Logistic Regression\": LogisticRegression(),\n",
    "    \"KNN\": KNeighborsClassifier(),\n",
    "    \"SVC\": SVC(),\n",
    "    \"Decision Tree\": DecisionTreeClassifier(),\n",
    "    \"Random Forest\": RandomForestClassifier(),\n",
    "}"
   ]
  },
  {
   "cell_type": "markdown",
   "id": "d0f215d3",
   "metadata": {},
   "source": [
    "Проводим кросс-валидацию для выбора лучшей модели\\\n",
    "Для каждой модели создаем пайплайн (предобработка и модель)\\\n",
    "Вычисляем метрики и выбираем лучшую модель\n"
   ]
  },
  {
   "cell_type": "code",
   "execution_count": null,
   "id": "91593f2a",
   "metadata": {},
   "outputs": [],
   "source": [
    "from sklearn.model_selection import cross_val_score\n",
    "\n",
    "\n",
    "best_model = None\n",
    "best_score = 0\n",
    "\n",
    "for name, model in models.items():\n",
    "    pipe = Pipeline([(\"transform\", transformer), (\"model\", model)])\n",
    "    scores = cross_val_score(pipe, X, y, cv=4, scoring=\"f1\")\n",
    "    mean_score = scores.mean()\n",
    "    print(f\"{name:<20}: {mean_score:.4f}\")\n",
    "\n",
    "    if mean_score > best_score:\n",
    "        best_score = mean_score\n",
    "        best_model = pipe"
   ]
  },
  {
   "cell_type": "markdown",
   "id": "ba908596",
   "metadata": {},
   "source": [
    "Обучаем лучшую модель на всех тренировочных данных\\\n",
    "Делаем предсказания для тестовых данных и сохраняем результат\n"
   ]
  },
  {
   "cell_type": "code",
   "execution_count": null,
   "id": "abc1a71a",
   "metadata": {},
   "outputs": [],
   "source": [
    "best_model.fit(X, y)\n",
    "pred = best_model.predict(X_test)\n",
    "\n",
    "output = pd.DataFrame({\"id\": df_test[\"id\"], \"Depression\": pred.astype(int)})\n",
    "output.to_csv(\"output.csv\", index=False)"
   ]
  }
 ],
 "metadata": {
  "kernelspec": {
   "display_name": ".venv",
   "language": "python",
   "name": "python3"
  },
  "language_info": {
   "codemirror_mode": {
    "name": "ipython",
    "version": 3
   },
   "file_extension": ".py",
   "mimetype": "text/x-python",
   "name": "python",
   "nbconvert_exporter": "python",
   "pygments_lexer": "ipython3",
   "version": "3.13.2"
  }
 },
 "nbformat": 4,
 "nbformat_minor": 5
}
