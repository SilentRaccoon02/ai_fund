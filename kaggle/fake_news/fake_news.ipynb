{
 "cells": [
  {
   "cell_type": "code",
   "execution_count": null,
   "id": "76713bb5",
   "metadata": {},
   "outputs": [],
   "source": [
    "import pandas as pd\n",
    "import yaml\n",
    "\n",
    "with open(\"../../config.yaml\", \"r\") as f:\n",
    "    cfg = yaml.safe_load(f)\n",
    "\n",
    "\n",
    "df = pd.read_csv(cfg[\"fake_news\"][\"train_dataset\"])\n",
    "df_test = pd.read_csv(cfg[\"fake_news\"][\"test_dataset\"])"
   ]
  },
  {
   "cell_type": "code",
   "execution_count": null,
   "id": "7fdb89c1",
   "metadata": {},
   "outputs": [],
   "source": [
    "df.columns"
   ]
  },
  {
   "cell_type": "code",
   "execution_count": null,
   "id": "b0952183",
   "metadata": {},
   "outputs": [],
   "source": [
    "df_copy = df.copy()\n",
    "columns_to_keep = [\"id\", \"title\", \"text\", \"label\"]\n",
    "df_copy = df_copy.drop(\n",
    "    columns=[col for col in df_copy.columns if col not in columns_to_keep]\n",
    ")\n",
    "df_test = df_test.drop(\n",
    "    columns=[col for col in df_test.columns if col not in columns_to_keep]\n",
    ")\n",
    "df_copy"
   ]
  },
  {
   "cell_type": "code",
   "execution_count": null,
   "id": "18c0f1ff",
   "metadata": {},
   "outputs": [],
   "source": [
    "allowed_values = [\"1\", \"0\"]\n",
    "df_copy = df_copy[df_copy[\"label\"].isin(allowed_values)]\n",
    "df_copy[\"label\"].unique()"
   ]
  },
  {
   "cell_type": "code",
   "execution_count": null,
   "id": "57c2ae80",
   "metadata": {},
   "outputs": [],
   "source": [
    "print(df_copy[\"title\"][0])\n",
    "print(df_copy[\"text\"][0])\n",
    "\n",
    "print(df_test[\"title\"][0])\n",
    "print(df_test[\"text\"][0])"
   ]
  },
  {
   "cell_type": "code",
   "execution_count": null,
   "id": "dd7bb730",
   "metadata": {},
   "outputs": [],
   "source": [
    "import re\n",
    "\n",
    "df_clean = df_copy.dropna()\n",
    "df_test = df_test.dropna()\n",
    "\n",
    "\n",
    "def clean_text(text):\n",
    "    text = re.sub(r\"<[^>]+>\", \"\", text)\n",
    "    text = re.sub(r\"[^\\w\\s]\", \"\", text)\n",
    "    text = re.sub(\" +\", \" \", text)\n",
    "    return text.lower()\n",
    "\n",
    "\n",
    "df_clean[\"title\"] = df_clean[\"title\"].apply(clean_text)\n",
    "df_clean[\"text\"] = df_clean[\"text\"].apply(clean_text)\n",
    "df_clean[\"label\"] = df_clean[\"label\"].replace({\"1\": True, \"0\": False})\n",
    "\n",
    "df_test[\"title\"] = df_test[\"title\"].apply(clean_text)\n",
    "df_test[\"text\"] = df_test[\"text\"].apply(clean_text)"
   ]
  },
  {
   "cell_type": "code",
   "execution_count": null,
   "id": "cee14867",
   "metadata": {},
   "outputs": [],
   "source": [
    "print(df_clean[\"title\"][0])\n",
    "print(df_clean[\"text\"][0])\n",
    "\n",
    "print(df_test[\"title\"][0])\n",
    "print(df_test[\"text\"][0])"
   ]
  },
  {
   "cell_type": "code",
   "execution_count": null,
   "id": "d8fff479",
   "metadata": {},
   "outputs": [],
   "source": [
    "from sklearn.feature_extraction.text import TfidfVectorizer\n",
    "\n",
    "title_vectorizer = TfidfVectorizer(max_features=1000)\n",
    "X_title = title_vectorizer.fit_transform(df_clean[\"title\"])\n",
    "\n",
    "text_vectorizer = TfidfVectorizer(max_features=5000)\n",
    "X_text = text_vectorizer.fit_transform(df_clean[\"text\"])"
   ]
  },
  {
   "cell_type": "code",
   "execution_count": null,
   "id": "210bc832",
   "metadata": {},
   "outputs": [],
   "source": [
    "from scipy.sparse import hstack\n",
    "\n",
    "X_combined = hstack([X_title, X_text])\n",
    "y_train = df_clean[\"label\"]"
   ]
  },
  {
   "cell_type": "code",
   "execution_count": null,
   "id": "f120512c",
   "metadata": {},
   "outputs": [],
   "source": [
    "from lightgbm import LGBMClassifier\n",
    "import os\n",
    "\n",
    "os.environ[\"LOKY_MAX_CPU_COUNT \"] = \"6\"\n",
    "\n",
    "title_features = title_vectorizer.get_feature_names_out()\n",
    "text_features = text_vectorizer.get_feature_names_out()\n",
    "\n",
    "title_features = [\"title_\" + f for f in title_features]\n",
    "text_features = [\"text_\" + f for f in text_features]\n",
    "\n",
    "X_combined = hstack([X_title, X_text])\n",
    "X_df = pd.DataFrame.sparse.from_spmatrix(\n",
    "    X_combined, columns=title_features + text_features\n",
    ")\n",
    "\n",
    "model = LGBMClassifier()\n",
    "model.fit(X_df, y_train)"
   ]
  },
  {
   "cell_type": "code",
   "execution_count": null,
   "id": "6583a1d4",
   "metadata": {},
   "outputs": [],
   "source": [
    "X_test_title = title_vectorizer.transform(df_test[\"title\"])\n",
    "X_test_text = text_vectorizer.transform(df_test[\"text\"])\n",
    "\n",
    "X_test_combined = hstack([X_test_title, X_test_text])\n",
    "X_test_df = pd.DataFrame.sparse.from_spmatrix(\n",
    "    X_test_combined, columns=title_features + text_features\n",
    ")\n",
    "\n",
    "y_pred = model.predict(X_test_df)"
   ]
  },
  {
   "cell_type": "code",
   "execution_count": null,
   "id": "420b9b73",
   "metadata": {},
   "outputs": [],
   "source": [
    "df_result = pd.DataFrame({\"id\": df_test[\"id\"], \"label\": y_pred.astype(int)})\n",
    "df_result.to_csv(\"output.csv\", index=False)"
   ]
  },
  {
   "cell_type": "code",
   "execution_count": null,
   "id": "24c89ac8",
   "metadata": {},
   "outputs": [],
   "source": [
    "# from sklearn.metrics import f1_score\n",
    "\n",
    "# y_test = df_clean[\"label\"]\n",
    "# f1 = f1_score(y_test, y_pred, average=\"binary\")\n",
    "# f1"
   ]
  }
 ],
 "metadata": {
  "kernelspec": {
   "display_name": ".venv",
   "language": "python",
   "name": "python3"
  },
  "language_info": {
   "codemirror_mode": {
    "name": "ipython",
    "version": 3
   },
   "file_extension": ".py",
   "mimetype": "text/x-python",
   "name": "python",
   "nbconvert_exporter": "python",
   "pygments_lexer": "ipython3",
   "version": "3.13.2"
  }
 },
 "nbformat": 4,
 "nbformat_minor": 5
}
