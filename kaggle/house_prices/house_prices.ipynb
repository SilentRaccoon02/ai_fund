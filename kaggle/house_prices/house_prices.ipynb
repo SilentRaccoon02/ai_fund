{
 "cells": [
  {
   "cell_type": "code",
   "execution_count": null,
   "id": "95e778f5",
   "metadata": {},
   "outputs": [],
   "source": [
    "import pandas as pd\n",
    "import yaml\n",
    "\n",
    "with open(\"../../config.yaml\", \"r\") as f:\n",
    "    cfg = yaml.safe_load(f)\n",
    "\n",
    "\n",
    "df = pd.read_csv(cfg[\"house_prices_hw\"][\"train_dataset\"])\n",
    "df_test = pd.read_csv(cfg[\"house_prices_hw\"][\"test_dataset\"])"
   ]
  },
  {
   "cell_type": "code",
   "execution_count": null,
   "id": "308acbc1",
   "metadata": {},
   "outputs": [],
   "source": [
    "df.columns"
   ]
  },
  {
   "cell_type": "markdown",
   "id": "bb3312e9",
   "metadata": {},
   "source": [
    "Преобразуем целевую переменную SalePrice с помощью логарифма, чтобы уменьшить влияние выбросов\n"
   ]
  },
  {
   "cell_type": "code",
   "execution_count": null,
   "id": "d7c34b0f",
   "metadata": {},
   "outputs": [],
   "source": [
    "import numpy as np\n",
    "\n",
    "df_copy = df.copy()\n",
    "y = np.log1p(df_copy[\"SalePrice\"])\n",
    "\n",
    "X = df_copy.drop(columns=[\"SalePrice\"])\n",
    "X_test = df_test.copy()"
   ]
  },
  {
   "cell_type": "markdown",
   "id": "83ddff71",
   "metadata": {},
   "source": [
    "Определяем числовые и категориальные признаки\n"
   ]
  },
  {
   "cell_type": "code",
   "execution_count": null,
   "id": "cf507951",
   "metadata": {},
   "outputs": [],
   "source": [
    "num_cols = X.select_dtypes(include=[\"number\"]).columns.tolist()\n",
    "cat_cols = X.select_dtypes(include=[\"object\"]).columns.tolist()"
   ]
  },
  {
   "cell_type": "markdown",
   "id": "9aab2eb2",
   "metadata": {},
   "source": [
    "Создаем конвейеры обработки данных\\\n",
    "Для числовых признаков пропущенные значения заполняются средним значением\\\n",
    "Для категориальных признаков значения заполняются наиболее частым значением\\\n",
    "Переменные категориальных признаков кодируются в числовой формат OneHotEncoder\n"
   ]
  },
  {
   "cell_type": "code",
   "execution_count": null,
   "id": "1e083f76",
   "metadata": {},
   "outputs": [],
   "source": [
    "from sklearn.impute import SimpleImputer\n",
    "from sklearn.pipeline import Pipeline\n",
    "from sklearn.preprocessing import OneHotEncoder\n",
    "\n",
    "\n",
    "num_pipe = SimpleImputer(strategy=\"mean\")\n",
    "\n",
    "cat_pipe = Pipeline(\n",
    "    [\n",
    "        (\"imputer\", SimpleImputer(strategy=\"most_frequent\")),\n",
    "        (\"encoder\", OneHotEncoder(handle_unknown=\"ignore\")),\n",
    "    ]\n",
    ")"
   ]
  },
  {
   "cell_type": "markdown",
   "id": "7903a3ca",
   "metadata": {},
   "source": [
    "Создаем общий обработчик числовых и категориальных признаков\n"
   ]
  },
  {
   "cell_type": "code",
   "execution_count": null,
   "id": "3d5b59b9",
   "metadata": {},
   "outputs": [],
   "source": [
    "from sklearn.compose import ColumnTransformer\n",
    "\n",
    "\n",
    "transformer = ColumnTransformer(\n",
    "    [(\"num\", num_pipe, num_cols), (\"cat\", cat_pipe, cat_cols)]\n",
    ")"
   ]
  },
  {
   "cell_type": "markdown",
   "id": "3d535379",
   "metadata": {},
   "source": [
    "Создаем основной пайплайн (предобработка и модель Ridge-регрессии)\n"
   ]
  },
  {
   "cell_type": "code",
   "execution_count": null,
   "id": "ed550af1",
   "metadata": {},
   "outputs": [],
   "source": [
    "from sklearn.linear_model import Ridge\n",
    "\n",
    "\n",
    "model = Pipeline([(\"transform\", transformer), (\"ridge\", Ridge())])"
   ]
  },
  {
   "cell_type": "markdown",
   "id": "a6b88f25",
   "metadata": {},
   "source": [
    "Подбираем параметр alpha с помощью кросс-валидации\\\n",
    "Используем отрицательное среднеквадратическое отклонение\\\n",
    "GridSearchCV максимизирует метрику, но RMSE - ошибка, значит метрику необходимо минимизировать\n"
   ]
  },
  {
   "cell_type": "code",
   "execution_count": null,
   "id": "f93f2f99",
   "metadata": {},
   "outputs": [],
   "source": [
    "from sklearn.model_selection import GridSearchCV\n",
    "\n",
    "\n",
    "params = {\"ridge__alpha\": np.logspace(-4, 4, 10)}\n",
    "search = GridSearchCV(model, params, cv=4, scoring=\"neg_root_mean_squared_error\")\n",
    "search.fit(X, y)\n",
    "best_model = search.best_estimator_"
   ]
  },
  {
   "cell_type": "markdown",
   "id": "f801ed39",
   "metadata": {},
   "source": [
    "Оценим качество модели с помощью RMSE на кросс-валидации\n"
   ]
  },
  {
   "cell_type": "code",
   "execution_count": null,
   "id": "b3c6e5e0",
   "metadata": {},
   "outputs": [],
   "source": [
    "from sklearn.model_selection import cross_val_score\n",
    "\n",
    "\n",
    "rmse = cross_val_score(\n",
    "    best_model, X, y, cv=4, scoring=\"neg_root_mean_squared_error\"\n",
    ").mean()\n",
    "\n",
    "print(\"mean RMSE: \", rmse)"
   ]
  },
  {
   "cell_type": "markdown",
   "id": "abddc743",
   "metadata": {},
   "source": [
    "Предсказываем результаты на тестовых данных\\\n",
    "Результат преобразуется обратно из логарифмической шкалы, округляется и приводится к числовому типу\n"
   ]
  },
  {
   "cell_type": "code",
   "execution_count": null,
   "id": "8b8f3ee1",
   "metadata": {},
   "outputs": [],
   "source": [
    "pred = best_model.predict(X_test)\n",
    "result = np.expm1(pred).round().astype(int)\n",
    "\n",
    "pd.DataFrame({\"Id\": df_test[\"Id\"], \"SalePrice\": result}).to_csv(\n",
    "    \"output.csv\", index=False\n",
    ")"
   ]
  }
 ],
 "metadata": {
  "kernelspec": {
   "display_name": ".venv",
   "language": "python",
   "name": "python3"
  },
  "language_info": {
   "codemirror_mode": {
    "name": "ipython",
    "version": 3
   },
   "file_extension": ".py",
   "mimetype": "text/x-python",
   "name": "python",
   "nbconvert_exporter": "python",
   "pygments_lexer": "ipython3",
   "version": "3.13.2"
  }
 },
 "nbformat": 4,
 "nbformat_minor": 5
}
